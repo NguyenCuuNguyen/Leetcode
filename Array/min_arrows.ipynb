from Typing import Optional, List

class Solution:
    def findMinArrowShots(self, points: List[List[int]]) -> int:
        #horizontal diameter stretches between xstart and xend
        