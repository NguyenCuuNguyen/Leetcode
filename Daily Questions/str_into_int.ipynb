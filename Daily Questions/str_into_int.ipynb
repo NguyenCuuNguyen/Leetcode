{
 "cells": [
  {
   "cell_type": "code",
   "execution_count": null,
   "source": [
    "\"\"\"\n",
    "1. Read in and ignore any leading whitespace.\n",
    "2. Check if the next character (if not already at the end of the string) is '-' or '+'. Read this character in if it is either. This determines if the final result is negative or positive respectively. Assume the result is positive if neither is present.\n",
    "3. Read in next the characters until the next non-digit character or the end of the input is reached. The rest of the string is ignored.\n",
    "4. Convert these digits into an integer (i.e. \"123\" -> 123, \"0032\" -> 32). If no digits were read, then the integer is 0. Change the sign as necessary (from step 2).\n",
    "5. If the integer is out of the 32-bit signed integer range [-231, 231 - 1], then clamp the integer so that it remains in the range. Specifically, integers less than -231 should be clamped to -231, and integers greater than 231 - 1 should be clamped to 231 - 1.\n",
    "6. Return the integer as the final result.\n",
    "\"\"\"\n",
    "\n",
    "from Typing import Optional, List\n",
    "\n",
    "\n",
    "digits = [0, 1, 2, 3, 4, 5, 6, 7, 8, 9]\n",
    "\n",
    "class Solution:\n",
    "    result = \"\"\n",
    "    def myAtoi(self, s: str) -> int:\n",
    "        for char in s:\n",
    "            if char == \" \" or char == \"+\":\n",
    "                pass\n",
    "            elif char == \"-\":\n",
    "                result += char\n",
    "            elif char in digits:\n",
    "                if char == \"0\" and result == \"\":\n",
    "                    pass\n",
    "                else:\n",
    "                    result += char\n",
    "            else:\n",
    "                break\n",
    "        return int(result)\n",
    "\n",
    "\n",
    "\n",
    "\n",
    "    # def myAtoi(self, s: str) -> int:\n",
    "    #     for char in s:\n",
    "    #         if char == \" \" or char == \"+\":\n",
    "    #             pass\n",
    "    #         elif char == \"-\":\n",
    "    #             result += char\n",
    "    #         elif char in digits:\n",
    "    #             if char == \"0\" and result == \"\":\n",
    "    #                 pass\n",
    "    #             else:\n",
    "    #                 result += char\n",
    "    #         else:\n",
    "    #             break\n",
    "    #     return int(result)\n",
    "    "
   ],
   "outputs": [],
   "metadata": {}
  },
  {
   "cell_type": "code",
   "execution_count": 1,
   "source": [
    "s = \"4193 with words\"\n",
    "for c in s:\n",
    "    print(c)"
   ],
   "outputs": [
    {
     "output_type": "stream",
     "name": "stdout",
     "text": [
      "4\n",
      "1\n",
      "9\n",
      "3\n",
      " \n",
      "w\n",
      "i\n",
      "t\n",
      "h\n",
      " \n",
      "w\n",
      "o\n",
      "r\n",
      "d\n",
      "s\n"
     ]
    }
   ],
   "metadata": {}
  },
  {
   "cell_type": "code",
   "execution_count": null,
   "source": [],
   "outputs": [],
   "metadata": {}
  }
 ],
 "metadata": {
  "orig_nbformat": 4,
  "language_info": {
   "name": "python",
   "version": "3.9.4",
   "mimetype": "text/x-python",
   "codemirror_mode": {
    "name": "ipython",
    "version": 3
   },
   "pygments_lexer": "ipython3",
   "nbconvert_exporter": "python",
   "file_extension": ".py"
  },
  "kernelspec": {
   "name": "python3",
   "display_name": "Python 3.9.4 64-bit"
  },
  "interpreter": {
   "hash": "aee8b7b246df8f9039afb4144a1f6fd8d2ca17a180786b69acc140d282b71a49"
  }
 },
 "nbformat": 4,
 "nbformat_minor": 2
}