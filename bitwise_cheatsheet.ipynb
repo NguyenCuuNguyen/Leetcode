{
  "nbformat": 4,
  "nbformat_minor": 0,
  "metadata": {
    "colab": {
      "name": "bitwise cheatsheet.ipynb",
      "provenance": [],
      "authorship_tag": "ABX9TyP2mxu9BrwbmPteY+dyhQHG",
      "include_colab_link": true
    },
    "kernelspec": {
      "name": "python3",
      "display_name": "Python 3"
    }
  },
  "cells": [
    {
      "cell_type": "markdown",
      "metadata": {
        "id": "view-in-github",
        "colab_type": "text"
      },
      "source": [
        "<a href=\"https://colab.research.google.com/github/NguyenCuuNguyen/Leetcode/blob/main/bitwise_cheatsheet.ipynb\" target=\"_parent\"><img src=\"https://colab.research.google.com/assets/colab-badge.svg\" alt=\"Open In Colab\"/></a>"
      ]
    },
    {
      "cell_type": "code",
      "metadata": {
        "id": "1Sm6fDokKCaC"
      },
      "source": [
        ""
      ],
      "execution_count": null,
      "outputs": []
    },
    {
      "cell_type": "code",
      "metadata": {
        "id": "qpQWuckrKDIX"
      },
      "source": [
        ""
      ],
      "execution_count": null,
      "outputs": []
    },
    {
      "cell_type": "markdown",
      "metadata": {
        "id": "bKBltLmUKNiv"
      },
      "source": [
        "**1)Bitwise AND(&)**\n",
        "Returns bit values of 1 for positions where both\n",
        "numbers had a one, and bit values of 0 where both numbers did not have one.\n",
        "\n",
        "**2)Bitwise OR(|)**\n",
        "returns bit values of 1 for positions where either bit\n",
        "or both bits are one, the result of 0 only happens when both bits are 0.\n",
        "\n",
        "**3)Bitwise XOR(^)**\n",
        "returns bit values of 1 for positions\n",
        "where both bits are different; if they are the same then the result is 0.\n",
        "\n",
        "**4)Bitwise Left-shift(<<)**\n",
        "The bitwise left shift moves all bits in the number to the left and fills vacated bit positions with 0.\n",
        "\n",
        "**5)Bitwise RIght-Shift(>>)**\n",
        "The bitwise right shift moves all bits in the number to the right.\n",
        "\n",
        "NOTE: Where the left shift filled the vacated positions with 0, a right\n",
        "shift will do the same only when the value is unsigned. If the value is signed then a right shift will fill the vacated bit positions with the sign bit or 0, whichever one is implementation-defined. So the best option is to never right shift signed value\n",
        "\n",
        "**6)Bitwise Complement(~)**\n",
        "The bitwise complement inverts the bits in a single binary number.\n",
        "\n",
        "**7)Checking Whether K-th Bit is Set or Not**\n",
        "n & (1 ≪ K -1). If the expression is true then we can say the Kth bit is set\n",
        "\n",
        "**8)Setting K-th Bit:** n | 1 ≪ (K – 1)\n",
        "\n",
        "**9)Clearing K-th Bit** : n & ~(1 ≪ K – 1)\n",
        "\n",
        "**10)Toggling K-th Bit** : n ^(1 ≪ K – 1)\n",
        "\n",
        "**11)Toggling Rightmost One Bit** : n & n – 1\n",
        "\n",
        "**12)Isolating Rightmost Zero Bit** : ~n & n + 1\n",
        "\n",
        "**13)Checking Whether Number is Power of 2 or Not** : if(n & n – 1 == 0)\n",
        "\n",
        "**14)Multiplying Number by Power of 2** :\n",
        "to multiply the number with 2K we can use the expression: n ≪ K\n",
        "\n",
        "**15)Dividing Number by Power of 2** :\n",
        "divide the number with 2K we can use the expression: n ≫ K\n",
        "\n",
        "**16)Performing Average without Division**\n",
        "We can use mid = (low + high) >> 1. Note that using (low + high) / 2 for midpoint calculations\n",
        "won’t work correctly when integer overflow becomes an issue. We can use bit shifting and also\n",
        "overcome a possible overflow issue: low + ((high – low)/ 2) and the bit shifting operation for\n",
        "this is low + ((high – low) >> 1)\n",
        "\n",
        "\n"
      ]
    }
  ]
}