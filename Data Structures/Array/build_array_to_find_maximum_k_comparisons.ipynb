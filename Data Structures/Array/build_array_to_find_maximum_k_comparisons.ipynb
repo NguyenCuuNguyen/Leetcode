{
 "cells": [
  {
   "cell_type": "code",
   "execution_count": 7,
   "metadata": {},
   "outputs": [
    {
     "name": "stdout",
     "output_type": "stream",
     "text": [
      "search_cost=1\n",
      "index=0\n"
     ]
    }
   ],
   "source": [
    "from typing import List\n",
    "arr = [1, 1, 1, 1, 1, 1, 1, 1, 1]\n",
    "def algorithm(arr: List[int])->int: \n",
    "    max_val = -1\n",
    "    max_index = -1\n",
    "    search_cost = 0\n",
    "    n = len(arr)\n",
    "    for i in range(n):\n",
    "        if max_val < arr[i]:\n",
    "            max_val = arr[i]\n",
    "            max_index = i\n",
    "            search_cost += 1\n",
    "    print(f\"search_cost={search_cost}\")\n",
    "    return max_index\n",
    "\n",
    "index = algorithm(arr)\n",
    "print(f\"index={index}\")"
   ]
  }
 ],
 "metadata": {
  "kernelspec": {
   "display_name": "Python 3",
   "language": "python",
   "name": "python3"
  },
  "language_info": {
   "codemirror_mode": {
    "name": "ipython",
    "version": 3
   },
   "file_extension": ".py",
   "mimetype": "text/x-python",
   "name": "python",
   "nbconvert_exporter": "python",
   "pygments_lexer": "ipython3",
   "version": "3.11.5"
  }
 },
 "nbformat": 4,
 "nbformat_minor": 2
}
